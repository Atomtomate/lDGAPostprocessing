{
 "cells": [
  {
   "cell_type": "code",
   "execution_count": 3,
   "id": "8320f821-f63f-4f3f-9de7-e5d6d2952193",
   "metadata": {},
   "outputs": [
    {
     "data": {
      "text/plain": [
       "nu_minus_nup (generic function with 1 method)"
      ]
     },
     "execution_count": 3,
     "metadata": {},
     "output_type": "execute_result"
    }
   ],
   "source": [
    "function nu_minus_nup(ν_ind, νp_ind)\n",
    "    trunc(Int,((2*ν_ind+1) - (2*νp_ind+1))/2)\n",
    "end"
   ]
  },
  {
   "cell_type": "code",
   "execution_count": 4,
   "id": "e00df419-d1ad-4884-83b4-d7af072dd459",
   "metadata": {},
   "outputs": [
    {
     "data": {
      "text/plain": [
       "2"
      ]
     },
     "execution_count": 4,
     "metadata": {},
     "output_type": "execute_result"
    }
   ],
   "source": [
    "nu_minus_nup(1, -1)"
   ]
  },
  {
   "cell_type": "code",
   "execution_count": 4,
   "id": "dfc10b5c-aed3-430e-b546-534e3b9775d2",
   "metadata": {},
   "outputs": [
    {
     "name": "stdout",
     "output_type": "stream",
     "text": [
      "0\n",
      "-1\n",
      "-2\n",
      "1\n",
      "0\n",
      "-1\n",
      "2\n",
      "1\n",
      "0\n"
     ]
    }
   ],
   "source": [
    "for νi in -1:1\n",
    "    for νpi in -1:1\n",
    "        println(nu_minus_nup(νi, νpi))\n",
    "    end\n",
    "end"
   ]
  },
  {
   "cell_type": "code",
   "execution_count": null,
   "id": "33d0efa4-8fc7-488a-bc16-f60990de4b37",
   "metadata": {},
   "outputs": [],
   "source": []
  }
 ],
 "metadata": {
  "kernelspec": {
   "display_name": "Julia 1.9.3",
   "language": "julia",
   "name": "julia-1.9"
  },
  "language_info": {
   "file_extension": ".jl",
   "mimetype": "application/julia",
   "name": "julia",
   "version": "1.9.3"
  }
 },
 "nbformat": 4,
 "nbformat_minor": 5
}
